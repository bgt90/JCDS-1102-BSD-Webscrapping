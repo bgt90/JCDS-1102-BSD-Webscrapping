{
 "cells": [
  {
   "cell_type": "markdown",
   "metadata": {},
   "source": [
    "# ``Web Scraping``\n",
    "\n",
    "## Import beberapa function yang diperlukan\n",
    "\n",
    "Function `BeautifulSoup` dan `requests` digunakan untuk melakukan Web Scrapping. Sedangkan `Pandas` digunakan untuk mengolah data.\n",
    "\n",
    "Learn more ``Beautiful Soup Documentation``: https://www.crummy.com/software/BeautifulSoup/bs4/doc/"
   ]
  },
  {
   "cell_type": "code",
   "execution_count": 1,
   "metadata": {},
   "outputs": [],
   "source": [
    "from bs4 import BeautifulSoup\n",
    "import requests\n",
    "import pandas as pd\n",
    "from IPython.display import display"
   ]
  },
  {
   "cell_type": "markdown",
   "metadata": {},
   "source": [
    "<hr>\n",
    "\n",
    "# **Scraping**: World Population Dataset\n",
    "``Scrape data from:`` https://www.worldometers.info/world-population/population-by-country/"
   ]
  },
  {
   "cell_type": "markdown",
   "metadata": {},
   "source": [
    "## Akses data ke Web yang ingin digali datanya"
   ]
  },
  {
   "cell_type": "code",
   "execution_count": 8,
   "metadata": {},
   "outputs": [
    {
     "output_type": "execute_result",
     "data": {
      "text/plain": [
       "<Response [200]>"
      ]
     },
     "metadata": {},
     "execution_count": 8
    }
   ],
   "source": [
    "world_web = requests.get('https://www.worldometers.info/world-population/population-by-country/')\n",
    "world_web"
   ]
  },
  {
   "cell_type": "code",
   "execution_count": 10,
   "metadata": {},
   "outputs": [],
   "source": [
    "data_web = BeautifulSoup(world_web.content, 'html.parser')\n",
    "# data_web"
   ]
  },
  {
   "cell_type": "markdown",
   "metadata": {},
   "source": [
    "## Mengambil data pada tag tertentu"
   ]
  },
  {
   "cell_type": "code",
   "execution_count": 5,
   "metadata": {},
   "outputs": [
    {
     "output_type": "execute_result",
     "data": {
      "text/plain": [
       "<title>Population by Country (2020) - Worldometer</title>"
      ]
     },
     "metadata": {},
     "execution_count": 5
    }
   ],
   "source": [
    "# mencari data judul di web disertai tag html\n",
    "data_web.title"
   ]
  },
  {
   "cell_type": "code",
   "execution_count": 11,
   "metadata": {},
   "outputs": [
    {
     "output_type": "execute_result",
     "data": {
      "text/plain": [
       "'Population by Country (2020) - Worldometer'"
      ]
     },
     "metadata": {},
     "execution_count": 11
    }
   ],
   "source": [
    "# mencari data judul di web tanpa tag html\n",
    "data_web.title.string"
   ]
  },
  {
   "cell_type": "code",
   "execution_count": 5,
   "metadata": {},
   "outputs": [
    {
     "data": {
      "text/plain": [
       "'Population by Country (2020) - Worldometer'"
      ]
     },
     "execution_count": 5,
     "metadata": {},
     "output_type": "execute_result"
    }
   ],
   "source": [
    "data_web.title.text"
   ]
  },
  {
   "cell_type": "code",
   "execution_count": 6,
   "metadata": {},
   "outputs": [],
   "source": [
    "# tag tr adalah perintah untuk membuat satu baris tabel di html\n",
    "# tag ini tidak terlalu akurat karena di dalamnya masih ada tag yang lebih dekat dengan data yang dicari\n",
    "tr = data_web.find_all('tr')\n",
    "# tr"
   ]
  },
  {
   "cell_type": "code",
   "execution_count": 7,
   "metadata": {},
   "outputs": [
    {
     "data": {
      "text/plain": [
       "'This list includes both countries and dependent territories. Data based on the latest United Nations Population Division estimates. Click on the name of the country or dependency for current estimates (live population clock), historical data, and projected figures.  See also: World Population  '"
      ]
     },
     "execution_count": 7,
     "metadata": {},
     "output_type": "execute_result"
    }
   ],
   "source": [
    "# <p> adalah perintah untuk membuat paragraf di html\n",
    "p = data_web.find_all('p')\n",
    "p[0].text"
   ]
  },
  {
   "cell_type": "code",
   "execution_count": 8,
   "metadata": {},
   "outputs": [
    {
     "data": {
      "text/plain": [
       "'Migrants (net)'"
      ]
     },
     "execution_count": 8,
     "metadata": {},
     "output_type": "execute_result"
    }
   ],
   "source": [
    "# <th> adalah perintah untuk membuat baris pertama (header table) di html\n",
    "th = data_web.find_all('th')\n",
    "th[7].text"
   ]
  },
  {
   "cell_type": "code",
   "execution_count": 9,
   "metadata": {},
   "outputs": [
    {
     "data": {
      "text/plain": [
       "'India'"
      ]
     },
     "execution_count": 9,
     "metadata": {},
     "output_type": "execute_result"
    }
   ],
   "source": [
    "# <td> adalah perintah untuk membuat baris kedua dst (data table) di html\n",
    "td = data_web.find_all('td')\n",
    "td[13].text"
   ]
  },
  {
   "cell_type": "markdown",
   "metadata": {},
   "source": [
    "## Mengolah data"
   ]
  },
  {
   "cell_type": "code",
   "execution_count": 10,
   "metadata": {},
   "outputs": [],
   "source": [
    "# menyimpan data dlaam sebuah variabel list\n",
    "th = data_web.find_all('th')\n",
    "td = data_web.find_all('td')\n",
    "\n",
    "box = [element.text for element in td]\n",
    "# print(box)\n",
    "kotak = [element.text for element in th]\n",
    "# print(kotak)"
   ]
  },
  {
   "cell_type": "code",
   "execution_count": 11,
   "metadata": {},
   "outputs": [],
   "source": [
    "# another method to loop \n",
    "th = data_web.find_all('th')\n",
    "td = data_web.find_all('td')\n",
    "\n",
    "box = []\n",
    "for element in td:\n",
    "    box.append(element.text) \n",
    "    \n",
    "kotak = []\n",
    "for element in th:\n",
    "    kotak.append(element.text) \n",
    "\n",
    "# kotak\n",
    "# box"
   ]
  },
  {
   "cell_type": "code",
   "execution_count": 12,
   "metadata": {},
   "outputs": [
    {
     "name": "stdout",
     "output_type": "stream",
     "text": [
      "['4', 'Indonesia', '273,523,615', '1.07 %', '2,898,047', '151', '1,811,570', '-98,955', '2.3', '30', '56 %', '3.51 %']\n"
     ]
    }
   ],
   "source": [
    "# memecah data per baris (per negara) dalam satu list, lalu di simpan dalam list \"world_population\"\n",
    "world_population = []\n",
    "a = 0\n",
    "for i in range(235): #235 adalah jumlah baris di data html (jumlah negara)\n",
    "    b = (i+1)*12\n",
    "    world_population.append(box[a:b])\n",
    "    a = b\n",
    "\n",
    "print(world_population[3])"
   ]
  },
  {
   "cell_type": "code",
   "execution_count": 13,
   "metadata": {},
   "outputs": [
    {
     "data": {
      "text/html": [
       "<div>\n",
       "<style scoped>\n",
       "    .dataframe tbody tr th:only-of-type {\n",
       "        vertical-align: middle;\n",
       "    }\n",
       "\n",
       "    .dataframe tbody tr th {\n",
       "        vertical-align: top;\n",
       "    }\n",
       "\n",
       "    .dataframe thead th {\n",
       "        text-align: right;\n",
       "    }\n",
       "</style>\n",
       "<table border=\"1\" class=\"dataframe\">\n",
       "  <thead>\n",
       "    <tr style=\"text-align: right;\">\n",
       "      <th></th>\n",
       "      <th>#</th>\n",
       "      <th>Country (or dependency)</th>\n",
       "      <th>Population (2020)</th>\n",
       "      <th>Yearly Change</th>\n",
       "      <th>Net Change</th>\n",
       "      <th>Density (P/Km²)</th>\n",
       "      <th>Land Area (Km²)</th>\n",
       "      <th>Migrants (net)</th>\n",
       "      <th>Fert. Rate</th>\n",
       "      <th>Med. Age</th>\n",
       "      <th>Urban Pop %</th>\n",
       "      <th>World Share</th>\n",
       "    </tr>\n",
       "  </thead>\n",
       "  <tbody>\n",
       "    <tr>\n",
       "      <th>0</th>\n",
       "      <td>1</td>\n",
       "      <td>China</td>\n",
       "      <td>1,439,323,776</td>\n",
       "      <td>0.39 %</td>\n",
       "      <td>5,540,090</td>\n",
       "      <td>153</td>\n",
       "      <td>9,388,211</td>\n",
       "      <td>-348,399</td>\n",
       "      <td>1.7</td>\n",
       "      <td>38</td>\n",
       "      <td>61 %</td>\n",
       "      <td>18.47 %</td>\n",
       "    </tr>\n",
       "    <tr>\n",
       "      <th>1</th>\n",
       "      <td>2</td>\n",
       "      <td>India</td>\n",
       "      <td>1,380,004,385</td>\n",
       "      <td>0.99 %</td>\n",
       "      <td>13,586,631</td>\n",
       "      <td>464</td>\n",
       "      <td>2,973,190</td>\n",
       "      <td>-532,687</td>\n",
       "      <td>2.2</td>\n",
       "      <td>28</td>\n",
       "      <td>35 %</td>\n",
       "      <td>17.70 %</td>\n",
       "    </tr>\n",
       "    <tr>\n",
       "      <th>2</th>\n",
       "      <td>3</td>\n",
       "      <td>United States</td>\n",
       "      <td>331,002,651</td>\n",
       "      <td>0.59 %</td>\n",
       "      <td>1,937,734</td>\n",
       "      <td>36</td>\n",
       "      <td>9,147,420</td>\n",
       "      <td>954,806</td>\n",
       "      <td>1.8</td>\n",
       "      <td>38</td>\n",
       "      <td>83 %</td>\n",
       "      <td>4.25 %</td>\n",
       "    </tr>\n",
       "    <tr>\n",
       "      <th>3</th>\n",
       "      <td>4</td>\n",
       "      <td>Indonesia</td>\n",
       "      <td>273,523,615</td>\n",
       "      <td>1.07 %</td>\n",
       "      <td>2,898,047</td>\n",
       "      <td>151</td>\n",
       "      <td>1,811,570</td>\n",
       "      <td>-98,955</td>\n",
       "      <td>2.3</td>\n",
       "      <td>30</td>\n",
       "      <td>56 %</td>\n",
       "      <td>3.51 %</td>\n",
       "    </tr>\n",
       "    <tr>\n",
       "      <th>4</th>\n",
       "      <td>5</td>\n",
       "      <td>Pakistan</td>\n",
       "      <td>220,892,340</td>\n",
       "      <td>2.00 %</td>\n",
       "      <td>4,327,022</td>\n",
       "      <td>287</td>\n",
       "      <td>770,880</td>\n",
       "      <td>-233,379</td>\n",
       "      <td>3.6</td>\n",
       "      <td>23</td>\n",
       "      <td>35 %</td>\n",
       "      <td>2.83 %</td>\n",
       "    </tr>\n",
       "  </tbody>\n",
       "</table>\n",
       "</div>"
      ],
      "text/plain": [
       "   # Country (or dependency) Population (2020) Yearly Change  Net Change  \\\n",
       "0  1                   China     1,439,323,776        0.39 %   5,540,090   \n",
       "1  2                   India     1,380,004,385        0.99 %  13,586,631   \n",
       "2  3           United States       331,002,651        0.59 %   1,937,734   \n",
       "3  4               Indonesia       273,523,615        1.07 %   2,898,047   \n",
       "4  5                Pakistan       220,892,340        2.00 %   4,327,022   \n",
       "\n",
       "  Density (P/Km²) Land Area (Km²) Migrants (net) Fert. Rate Med. Age  \\\n",
       "0             153       9,388,211       -348,399        1.7       38   \n",
       "1             464       2,973,190       -532,687        2.2       28   \n",
       "2              36       9,147,420        954,806        1.8       38   \n",
       "3             151       1,811,570        -98,955        2.3       30   \n",
       "4             287         770,880       -233,379        3.6       23   \n",
       "\n",
       "  Urban Pop % World Share  \n",
       "0        61 %     18.47 %  \n",
       "1        35 %     17.70 %  \n",
       "2        83 %      4.25 %  \n",
       "3        56 %      3.51 %  \n",
       "4        35 %      2.83 %  "
      ]
     },
     "execution_count": 13,
     "metadata": {},
     "output_type": "execute_result"
    }
   ],
   "source": [
    "# ubah menjadi sebuah dataframe dengan kolom dari variabel \"kotak\"\n",
    "world_df = pd.DataFrame(world_population, columns=kotak)\n",
    "world_df.head()"
   ]
  },
  {
   "cell_type": "code",
   "execution_count": 14,
   "metadata": {},
   "outputs": [
    {
     "data": {
      "text/html": [
       "<div>\n",
       "<style scoped>\n",
       "    .dataframe tbody tr th:only-of-type {\n",
       "        vertical-align: middle;\n",
       "    }\n",
       "\n",
       "    .dataframe tbody tr th {\n",
       "        vertical-align: top;\n",
       "    }\n",
       "\n",
       "    .dataframe thead th {\n",
       "        text-align: right;\n",
       "    }\n",
       "</style>\n",
       "<table border=\"1\" class=\"dataframe\">\n",
       "  <thead>\n",
       "    <tr style=\"text-align: right;\">\n",
       "      <th></th>\n",
       "      <th>#</th>\n",
       "      <th>Country (or dependency)</th>\n",
       "      <th>Population (2020)</th>\n",
       "      <th>Yearly Change (%)</th>\n",
       "      <th>Net Change</th>\n",
       "      <th>Density (P/Km²)</th>\n",
       "      <th>Land Area (Km²)</th>\n",
       "      <th>Migrants (net)</th>\n",
       "      <th>Fert. Rate</th>\n",
       "      <th>Med. Age</th>\n",
       "      <th>Urban Pop %</th>\n",
       "      <th>World Share</th>\n",
       "    </tr>\n",
       "  </thead>\n",
       "  <tbody>\n",
       "    <tr>\n",
       "      <th>0</th>\n",
       "      <td>1</td>\n",
       "      <td>China</td>\n",
       "      <td>1,439,323,776</td>\n",
       "      <td>0.39 %</td>\n",
       "      <td>5,540,090</td>\n",
       "      <td>153</td>\n",
       "      <td>9,388,211</td>\n",
       "      <td>-348,399</td>\n",
       "      <td>1.7</td>\n",
       "      <td>38</td>\n",
       "      <td>61 %</td>\n",
       "      <td>18.47 %</td>\n",
       "    </tr>\n",
       "    <tr>\n",
       "      <th>1</th>\n",
       "      <td>2</td>\n",
       "      <td>India</td>\n",
       "      <td>1,380,004,385</td>\n",
       "      <td>0.99 %</td>\n",
       "      <td>13,586,631</td>\n",
       "      <td>464</td>\n",
       "      <td>2,973,190</td>\n",
       "      <td>-532,687</td>\n",
       "      <td>2.2</td>\n",
       "      <td>28</td>\n",
       "      <td>35 %</td>\n",
       "      <td>17.70 %</td>\n",
       "    </tr>\n",
       "    <tr>\n",
       "      <th>2</th>\n",
       "      <td>3</td>\n",
       "      <td>United States</td>\n",
       "      <td>331,002,651</td>\n",
       "      <td>0.59 %</td>\n",
       "      <td>1,937,734</td>\n",
       "      <td>36</td>\n",
       "      <td>9,147,420</td>\n",
       "      <td>954,806</td>\n",
       "      <td>1.8</td>\n",
       "      <td>38</td>\n",
       "      <td>83 %</td>\n",
       "      <td>4.25 %</td>\n",
       "    </tr>\n",
       "    <tr>\n",
       "      <th>3</th>\n",
       "      <td>4</td>\n",
       "      <td>Indonesia</td>\n",
       "      <td>273,523,615</td>\n",
       "      <td>1.07 %</td>\n",
       "      <td>2,898,047</td>\n",
       "      <td>151</td>\n",
       "      <td>1,811,570</td>\n",
       "      <td>-98,955</td>\n",
       "      <td>2.3</td>\n",
       "      <td>30</td>\n",
       "      <td>56 %</td>\n",
       "      <td>3.51 %</td>\n",
       "    </tr>\n",
       "    <tr>\n",
       "      <th>4</th>\n",
       "      <td>5</td>\n",
       "      <td>Pakistan</td>\n",
       "      <td>220,892,340</td>\n",
       "      <td>2.00 %</td>\n",
       "      <td>4,327,022</td>\n",
       "      <td>287</td>\n",
       "      <td>770,880</td>\n",
       "      <td>-233,379</td>\n",
       "      <td>3.6</td>\n",
       "      <td>23</td>\n",
       "      <td>35 %</td>\n",
       "      <td>2.83 %</td>\n",
       "    </tr>\n",
       "  </tbody>\n",
       "</table>\n",
       "</div>"
      ],
      "text/plain": [
       "   # Country (or dependency) Population (2020) Yearly Change (%)  Net Change  \\\n",
       "0  1                   China     1,439,323,776            0.39 %   5,540,090   \n",
       "1  2                   India     1,380,004,385            0.99 %  13,586,631   \n",
       "2  3           United States       331,002,651            0.59 %   1,937,734   \n",
       "3  4               Indonesia       273,523,615            1.07 %   2,898,047   \n",
       "4  5                Pakistan       220,892,340            2.00 %   4,327,022   \n",
       "\n",
       "  Density (P/Km²) Land Area (Km²) Migrants (net) Fert. Rate Med. Age  \\\n",
       "0             153       9,388,211       -348,399        1.7       38   \n",
       "1             464       2,973,190       -532,687        2.2       28   \n",
       "2              36       9,147,420        954,806        1.8       38   \n",
       "3             151       1,811,570        -98,955        2.3       30   \n",
       "4             287         770,880       -233,379        3.6       23   \n",
       "\n",
       "  Urban Pop % World Share  \n",
       "0        61 %     18.47 %  \n",
       "1        35 %     17.70 %  \n",
       "2        83 %      4.25 %  \n",
       "3        56 %      3.51 %  \n",
       "4        35 %      2.83 %  "
      ]
     },
     "execution_count": 14,
     "metadata": {},
     "output_type": "execute_result"
    }
   ],
   "source": [
    "# mengubah nama kolom\n",
    "world_df.rename(columns={'Yearly Change':'Yearly Change (%)'}, inplace=True)\n",
    "world_df.head()"
   ]
  },
  {
   "cell_type": "code",
   "execution_count": 15,
   "metadata": {},
   "outputs": [],
   "source": [
    "# menghilangkan unsur '%' di kolom 'Yearly Change (%)'\n",
    "gudang = []\n",
    "for i in range(len(world_df['Yearly Change (%)'])):\n",
    "    j = world_df['Yearly Change (%)'][i].split()\n",
    "    gudang.append(float(j[0]))"
   ]
  },
  {
   "cell_type": "code",
   "execution_count": 16,
   "metadata": {},
   "outputs": [
    {
     "data": {
      "text/html": [
       "<div>\n",
       "<style scoped>\n",
       "    .dataframe tbody tr th:only-of-type {\n",
       "        vertical-align: middle;\n",
       "    }\n",
       "\n",
       "    .dataframe tbody tr th {\n",
       "        vertical-align: top;\n",
       "    }\n",
       "\n",
       "    .dataframe thead th {\n",
       "        text-align: right;\n",
       "    }\n",
       "</style>\n",
       "<table border=\"1\" class=\"dataframe\">\n",
       "  <thead>\n",
       "    <tr style=\"text-align: right;\">\n",
       "      <th></th>\n",
       "      <th>#</th>\n",
       "      <th>Country (or dependency)</th>\n",
       "      <th>Population (2020)</th>\n",
       "      <th>Yearly Change (%)</th>\n",
       "      <th>Net Change</th>\n",
       "      <th>Density (P/Km²)</th>\n",
       "      <th>Land Area (Km²)</th>\n",
       "      <th>Migrants (net)</th>\n",
       "      <th>Fert. Rate</th>\n",
       "      <th>Med. Age</th>\n",
       "      <th>Urban Pop %</th>\n",
       "      <th>World Share</th>\n",
       "    </tr>\n",
       "  </thead>\n",
       "  <tbody>\n",
       "    <tr>\n",
       "      <th>0</th>\n",
       "      <td>1</td>\n",
       "      <td>China</td>\n",
       "      <td>1,439,323,776</td>\n",
       "      <td>0.39</td>\n",
       "      <td>5,540,090</td>\n",
       "      <td>153</td>\n",
       "      <td>9,388,211</td>\n",
       "      <td>-348,399</td>\n",
       "      <td>1.7</td>\n",
       "      <td>38</td>\n",
       "      <td>61 %</td>\n",
       "      <td>18.47 %</td>\n",
       "    </tr>\n",
       "    <tr>\n",
       "      <th>1</th>\n",
       "      <td>2</td>\n",
       "      <td>India</td>\n",
       "      <td>1,380,004,385</td>\n",
       "      <td>0.99</td>\n",
       "      <td>13,586,631</td>\n",
       "      <td>464</td>\n",
       "      <td>2,973,190</td>\n",
       "      <td>-532,687</td>\n",
       "      <td>2.2</td>\n",
       "      <td>28</td>\n",
       "      <td>35 %</td>\n",
       "      <td>17.70 %</td>\n",
       "    </tr>\n",
       "    <tr>\n",
       "      <th>2</th>\n",
       "      <td>3</td>\n",
       "      <td>United States</td>\n",
       "      <td>331,002,651</td>\n",
       "      <td>0.59</td>\n",
       "      <td>1,937,734</td>\n",
       "      <td>36</td>\n",
       "      <td>9,147,420</td>\n",
       "      <td>954,806</td>\n",
       "      <td>1.8</td>\n",
       "      <td>38</td>\n",
       "      <td>83 %</td>\n",
       "      <td>4.25 %</td>\n",
       "    </tr>\n",
       "    <tr>\n",
       "      <th>3</th>\n",
       "      <td>4</td>\n",
       "      <td>Indonesia</td>\n",
       "      <td>273,523,615</td>\n",
       "      <td>1.07</td>\n",
       "      <td>2,898,047</td>\n",
       "      <td>151</td>\n",
       "      <td>1,811,570</td>\n",
       "      <td>-98,955</td>\n",
       "      <td>2.3</td>\n",
       "      <td>30</td>\n",
       "      <td>56 %</td>\n",
       "      <td>3.51 %</td>\n",
       "    </tr>\n",
       "    <tr>\n",
       "      <th>4</th>\n",
       "      <td>5</td>\n",
       "      <td>Pakistan</td>\n",
       "      <td>220,892,340</td>\n",
       "      <td>2.00</td>\n",
       "      <td>4,327,022</td>\n",
       "      <td>287</td>\n",
       "      <td>770,880</td>\n",
       "      <td>-233,379</td>\n",
       "      <td>3.6</td>\n",
       "      <td>23</td>\n",
       "      <td>35 %</td>\n",
       "      <td>2.83 %</td>\n",
       "    </tr>\n",
       "  </tbody>\n",
       "</table>\n",
       "</div>"
      ],
      "text/plain": [
       "   # Country (or dependency) Population (2020)  Yearly Change (%)  Net Change  \\\n",
       "0  1                   China     1,439,323,776               0.39   5,540,090   \n",
       "1  2                   India     1,380,004,385               0.99  13,586,631   \n",
       "2  3           United States       331,002,651               0.59   1,937,734   \n",
       "3  4               Indonesia       273,523,615               1.07   2,898,047   \n",
       "4  5                Pakistan       220,892,340               2.00   4,327,022   \n",
       "\n",
       "  Density (P/Km²) Land Area (Km²) Migrants (net) Fert. Rate Med. Age  \\\n",
       "0             153       9,388,211       -348,399        1.7       38   \n",
       "1             464       2,973,190       -532,687        2.2       28   \n",
       "2              36       9,147,420        954,806        1.8       38   \n",
       "3             151       1,811,570        -98,955        2.3       30   \n",
       "4             287         770,880       -233,379        3.6       23   \n",
       "\n",
       "  Urban Pop % World Share  \n",
       "0        61 %     18.47 %  \n",
       "1        35 %     17.70 %  \n",
       "2        83 %      4.25 %  \n",
       "3        56 %      3.51 %  \n",
       "4        35 %      2.83 %  "
      ]
     },
     "execution_count": 16,
     "metadata": {},
     "output_type": "execute_result"
    }
   ],
   "source": [
    "world_df['Yearly Change (%)'] = gudang\n",
    "world_df.head()"
   ]
  },
  {
   "cell_type": "markdown",
   "metadata": {},
   "source": [
    "<hr>\n",
    "\n",
    "# **Take Class Exercise**: Indonesia Population in 1960, 1970, ...., 2050\n",
    "## ``Indonesia Population in 10 years period``\n",
    "\n",
    "### A. Get data (scrape) from this site: https://www.worldometers.info/world-population/indonesia-population/\n",
    "\n",
    "### B. Create DataFrame with columns: ``Year, Population, Median Age, Fertility Rate, & Urban Pop Percentage``"
   ]
  },
  {
   "cell_type": "code",
   "execution_count": 24,
   "metadata": {},
   "outputs": [],
   "source": [
    "# ambil data dari website\n",
    "indo_web = requests.get('https://www.worldometers.info/world-population/indonesia-population/')\n",
    "data_indo = BeautifulSoup(indo_web.content, 'html.parser')"
   ]
  },
  {
   "cell_type": "code",
   "execution_count": 26,
   "metadata": {},
   "outputs": [
    {
     "output_type": "execute_result",
     "data": {
      "text/plain": [
       "['Year',\n",
       " 'Population',\n",
       " 'Yearly %  Change',\n",
       " 'Yearly Change',\n",
       " 'Migrants (net)',\n",
       " 'Median Age',\n",
       " 'Fertility Rate',\n",
       " 'Density (P/Km²)',\n",
       " 'Urban Pop %',\n",
       " 'Urban Population',\n",
       " \"Country's Share of World Pop\",\n",
       " 'World Population',\n",
       " 'IndonesiaGlobal Rank']"
      ]
     },
     "metadata": {},
     "execution_count": 26
    }
   ],
   "source": [
    "# ambil data header table\n",
    "th_indo = data_indo.find_all('th')\n",
    "kolom_header = [th_indo[i].text for i in range(len(th_indo))]\n",
    "kolom_header = kolom_header[0:13]\n",
    "kolom_header                      "
   ]
  },
  {
   "cell_type": "code",
   "execution_count": 29,
   "metadata": {},
   "outputs": [],
   "source": [
    "# ambil data table\n",
    "td_indo = data_indo.find_all('td')\n",
    "kolom_data = [td_indo[i].text for i in range(len(td_indo))]\n",
    "kolom_data = kolom_data[2:kolom_data.index('1')]\n",
    "# kolom_data"
   ]
  },
  {
   "cell_type": "code",
   "execution_count": null,
   "metadata": {},
   "outputs": [],
   "source": []
  },
  {
   "cell_type": "code",
   "execution_count": 19,
   "metadata": {},
   "outputs": [
    {
     "output_type": "stream",
     "name": "stdout",
     "text": [
      "['2020', '273,523,615', '1.07 %', '2,898,047', '-98,955', '29.7', '2.32', '151', '56.4 %', '154,188,546', '3.51 %', '7,794,798,739', '4']\n"
     ]
    }
   ],
   "source": [
    "Indo_pop = []\n",
    "a = 0\n",
    "for i in range(25): \n",
    "    b = (i+1)*13\n",
    "    Indo_pop.append(kolom_data[a:b])\n",
    "    a = b\n",
    "\n",
    "print(Indo_pop[0])"
   ]
  },
  {
   "cell_type": "code",
   "execution_count": 33,
   "metadata": {},
   "outputs": [],
   "source": [
    "indo_df = pd.DataFrame(Indo_pop, columns=kolom_header)\n",
    "indo_df = indo_df.sort_values(by='Year')[['Year', 'Population', 'Median Age', 'Fertility Rate', 'Urban Pop %']]\n",
    "indo_df.drop_duplicates(subset='Year', inplace=True)\n",
    "# indo_df"
   ]
  },
  {
   "cell_type": "code",
   "execution_count": 34,
   "metadata": {},
   "outputs": [
    {
     "output_type": "execute_result",
     "data": {
      "text/plain": [
       "['1960',\n",
       " '1970',\n",
       " '1980',\n",
       " '1990',\n",
       " '2000',\n",
       " '2010',\n",
       " '2020',\n",
       " '2030',\n",
       " '2040',\n",
       " '2050']"
      ]
     },
     "metadata": {},
     "execution_count": 34
    }
   ],
   "source": [
    "ten_period = [indo_df['Year'].tolist()[i] for i in range(len(indo_df['Year'])) if int(indo_df['Year'].tolist()[i]) % 10 == 0]\n",
    "ten_period"
   ]
  },
  {
   "cell_type": "code",
   "execution_count": 35,
   "metadata": {},
   "outputs": [
    {
     "output_type": "execute_result",
     "data": {
      "text/plain": [
       "   Year   Population Median Age Fertility Rate Urban Pop %\n",
       "0  1960   87,751,068       20.2           5.67      14.6 %\n",
       "1  1970  114,793,178       18.6           5.57      17.1 %\n",
       "2  1980  147,447,836       19.1           4.73      22.1 %\n",
       "3  1990  181,413,402       21.3           3.40      30.6 %\n",
       "4  2000  211,513,823       24.4           2.55      42.0 %\n",
       "5  2010  241,834,215       27.2           2.50      50.1 %\n",
       "6  2020  273,523,615       29.7           2.32      56.4 %\n",
       "7  2030  299,198,430       32.4           2.32      62.1 %\n",
       "8  2040  318,637,858       35.1           2.32      66.8 %\n",
       "9  2050  330,904,664       37.4           2.32      70.7 %"
      ],
      "text/html": "<div>\n<style scoped>\n    .dataframe tbody tr th:only-of-type {\n        vertical-align: middle;\n    }\n\n    .dataframe tbody tr th {\n        vertical-align: top;\n    }\n\n    .dataframe thead th {\n        text-align: right;\n    }\n</style>\n<table border=\"1\" class=\"dataframe\">\n  <thead>\n    <tr style=\"text-align: right;\">\n      <th></th>\n      <th>Year</th>\n      <th>Population</th>\n      <th>Median Age</th>\n      <th>Fertility Rate</th>\n      <th>Urban Pop %</th>\n    </tr>\n  </thead>\n  <tbody>\n    <tr>\n      <th>0</th>\n      <td>1960</td>\n      <td>87,751,068</td>\n      <td>20.2</td>\n      <td>5.67</td>\n      <td>14.6 %</td>\n    </tr>\n    <tr>\n      <th>1</th>\n      <td>1970</td>\n      <td>114,793,178</td>\n      <td>18.6</td>\n      <td>5.57</td>\n      <td>17.1 %</td>\n    </tr>\n    <tr>\n      <th>2</th>\n      <td>1980</td>\n      <td>147,447,836</td>\n      <td>19.1</td>\n      <td>4.73</td>\n      <td>22.1 %</td>\n    </tr>\n    <tr>\n      <th>3</th>\n      <td>1990</td>\n      <td>181,413,402</td>\n      <td>21.3</td>\n      <td>3.40</td>\n      <td>30.6 %</td>\n    </tr>\n    <tr>\n      <th>4</th>\n      <td>2000</td>\n      <td>211,513,823</td>\n      <td>24.4</td>\n      <td>2.55</td>\n      <td>42.0 %</td>\n    </tr>\n    <tr>\n      <th>5</th>\n      <td>2010</td>\n      <td>241,834,215</td>\n      <td>27.2</td>\n      <td>2.50</td>\n      <td>50.1 %</td>\n    </tr>\n    <tr>\n      <th>6</th>\n      <td>2020</td>\n      <td>273,523,615</td>\n      <td>29.7</td>\n      <td>2.32</td>\n      <td>56.4 %</td>\n    </tr>\n    <tr>\n      <th>7</th>\n      <td>2030</td>\n      <td>299,198,430</td>\n      <td>32.4</td>\n      <td>2.32</td>\n      <td>62.1 %</td>\n    </tr>\n    <tr>\n      <th>8</th>\n      <td>2040</td>\n      <td>318,637,858</td>\n      <td>35.1</td>\n      <td>2.32</td>\n      <td>66.8 %</td>\n    </tr>\n    <tr>\n      <th>9</th>\n      <td>2050</td>\n      <td>330,904,664</td>\n      <td>37.4</td>\n      <td>2.32</td>\n      <td>70.7 %</td>\n    </tr>\n  </tbody>\n</table>\n</div>"
     },
     "metadata": {},
     "execution_count": 35
    }
   ],
   "source": [
    "indo_df[indo_df['Year'].isin(ten_period)].reset_index(drop=True)"
   ]
  },
  {
   "cell_type": "markdown",
   "metadata": {},
   "source": [
    "<hr>\n",
    "\n",
    "# **Take Home Exercise** (Technically Challenging)\n",
    "## ``Ultraman & Monster Dataset``\n",
    "\n",
    "### A. Get data (scrape) from this site: http://www.scifijapan.com/articles/2015/10/04/bandai-ultraman-ultra-500-figure-list/\n",
    "\n",
    "### B. Create DataFrame with columns: ``Ultraman Name``\n",
    "\n",
    "### C. Create DataFrame with columns: ``Monster Name``"
   ]
  },
  {
   "cell_type": "markdown",
   "metadata": {},
   "source": [
    "## **Scraping Ultraman Dataset**: Akses data ke Web yang ingin digali datanya"
   ]
  },
  {
   "cell_type": "code",
   "execution_count": 2,
   "metadata": {},
   "outputs": [],
   "source": [
    "web = requests.get('http://www.scifijapan.com/articles/2015/10/04/bandai-ultraman-ultra-500-figure-list/')\n",
    "data = BeautifulSoup(web.content, 'html.parser')"
   ]
  },
  {
   "cell_type": "markdown",
   "metadata": {},
   "source": [
    "## Mengambil data pada tag tertentu"
   ]
  },
  {
   "cell_type": "code",
   "execution_count": 3,
   "metadata": {},
   "outputs": [
    {
     "output_type": "execute_result",
     "data": {
      "text/plain": [
       "'Bandai ULTRAMAN Ultra 500 Figure List «  SciFi Japan'"
      ]
     },
     "metadata": {},
     "execution_count": 3
    }
   ],
   "source": [
    "# mendapatkan data title\n",
    "data.title.string"
   ]
  },
  {
   "cell_type": "code",
   "execution_count": 8,
   "metadata": {},
   "outputs": [],
   "source": [
    "# get all text in website\n",
    "# data.get_text()"
   ]
  },
  {
   "cell_type": "code",
   "execution_count": 4,
   "metadata": {},
   "outputs": [
    {
     "output_type": "execute_result",
     "data": {
      "text/plain": [
       "['Note:',\n",
       " 'Ultra Hero 500/ ウルトラヒーロー５００',\n",
       " '01 Ultraman',\n",
       " '02 Ultra Seven',\n",
       " '03 Zoffy',\n",
       " '04 Ultraman Jack',\n",
       " '05 Ultraman Ace',\n",
       " '06 Ultraman Taro',\n",
       " '07 Ultraman Leo',\n",
       " '08 Ultraman Tiga (Multi-Type)',\n",
       " '09 Ultraman Gaia (V2)',\n",
       " '10 Ultraman Agul (V2)',\n",
       " '11 Ultraman Ginga',\n",
       " '12 Jean-Nine',\n",
       " '13 Astra',\n",
       " '14 Ultraman Dyna (Flash Type)',\n",
       " '15 Ultraman 80',\n",
       " '16 Ultraman Cosmos (Luna Mode)',\n",
       " '17 Ultraman Nexus (Anphans)',\n",
       " '18 Ultraman Max',\n",
       " '19 Ultraman Mebius',\n",
       " '20 Ultraman Hikari',\n",
       " '21 Ultraman Zero',\n",
       " '22 Ultraman Nice',\n",
       " '23 Father of Ultra',\n",
       " '24 Ultraman King',\n",
       " '25 Ultraman Saga',\n",
       " '26 Tiga Dark (Spark Doll)',\n",
       " '27 Ultraman Dark (Spark Doll)',\n",
       " '28 Ultraman Victory',\n",
       " '29 Ultraman Ginga Strium',\n",
       " '30 Ultraman Gingavictory',\n",
       " '31 Shining Ultraman Zero',\n",
       " '32 Ultraman Nexus Junis',\n",
       " '33 Ultraman Cosmos Eclipse Mode',\n",
       " '34 Ultraman Victory Knight',\n",
       " 'Ultra Monster 500/ ウルトラ怪獣５００',\n",
       " '01 Alien Baltan',\n",
       " '02 Gomora',\n",
       " '03 Zetton',\n",
       " '04 Zaragas',\n",
       " '05 Eleking',\n",
       " '06 Alien Godora',\n",
       " '07 King Joe',\n",
       " '08 Black King',\n",
       " '09 Kemur',\n",
       " '10 King Pandon',\n",
       " '11 Ragon',\n",
       " '12 Thunder Darambia',\n",
       " '13 Antlar',\n",
       " '14 Red King',\n",
       " '15 Gavadon (B)',\n",
       " '16 Seagorath',\n",
       " '17 Bemstar',\n",
       " '18 Barabas',\n",
       " '19 King Crab',\n",
       " '20 Vakishim',\n",
       " '21 Doragory',\n",
       " '22 Mochiron',\n",
       " '23 Alien Magma',\n",
       " '24 Salamandra',\n",
       " '25 Golza',\n",
       " '26 Dark Zagi',\n",
       " '27 Jashrine',\n",
       " '28 Alien Icarus',\n",
       " '29 Alien Guts',\n",
       " '30 Snowgon',\n",
       " '31 Hanzagiran',\n",
       " '32 Giant Yapool',\n",
       " '33 Alien Valky',\n",
       " '34 Astromons',\n",
       " '35 Silvergon',\n",
       " '36 Gan-Q (Code No. 1)',\n",
       " '37 Ragorath',\n",
       " '38 Zoa Muruchi',\n",
       " '39 Lobelgar',\n",
       " '40 Alien Empera',\n",
       " '41 Zamsher',\n",
       " '42 Fire Golza',\n",
       " '43 Ultraman Belial',\n",
       " '44 Hyper Zetton (Imago)',\n",
       " '45 Dark Galberos (Spark Doll)',\n",
       " '46 Alien Nackle Grey (Spark Doll)',\n",
       " '47 Kanegon',\n",
       " '48 Alien Miracle',\n",
       " '49 Alien Akumania',\n",
       " '50 Dorako',\n",
       " '51 Telesdon',\n",
       " '52 Evil Tiga',\n",
       " '53 Super C.O.V',\n",
       " '54 Alien Baltan (Basical Version)',\n",
       " '55 Miclas',\n",
       " '56 Dark Lugiel',\n",
       " '57 EX Red King',\n",
       " '58 Verokron',\n",
       " '59 Twintail',\n",
       " '60 Gudon',\n",
       " '61 Sadora',\n",
       " '62 Melba',\n",
       " '63 Reigubas',\n",
       " '64 Dino-Tank',\n",
       " '65 Bemular',\n",
       " '66 Shepherdon',\n",
       " '67 Inpelaizer',\n",
       " '68 Alien Metron',\n",
       " '69 Birdon',\n",
       " '70 King Joe Custom (Spark Doll)',\n",
       " '71 Aribunta',\n",
       " '72 Ace Killer',\n",
       " '73 Judah Spectre',\n",
       " 'Ultra Monster DX/ ウルトラ怪獣DX',\n",
       " 'Ultra Monster 500 Series: Spark Dolls DX Utlive Tyrant Set',\n",
       " 'Super Grand King (Spark Doll)',\n",
       " 'Tyrant (SDU)',\n",
       " 'Zog (Ver. 2)',\n",
       " 'Alien Chibull Exceller (Spark Doll)',\n",
       " 'Fiveking (SDU)',\n",
       " 'Etelgar',\n",
       " 'Super Grand King Spector (aka Super Grandking Spectre)',\n",
       " 'Arch Belial',\n",
       " 'Victlugiel',\n",
       " 'Gashapon Ultra Hero 500 & Ultra Monster 500 Vol. 1/ ガシャポンウルトラヒーロー500＆ウルトラ怪獣500第1弾',\n",
       " 'Giant Monster Rush: Ultra Frontier Galaxy Hunters/ 大怪獣ラッシュ ウルトラフロンティア ギャラクシーハンターズ',\n",
       " 'Baltan Battler – Barel',\n",
       " 'Guts Gunner – Garm',\n",
       " 'Magma Master – Magna',\n",
       " 'Nodachizamsher',\n",
       " 'Alien Mefilas – Gent',\n",
       " 'Giant Monster Rush: Ultra Frontier Galaxy Monsters/ 大怪獣ラッシュ ウルトラフロンティア ギャラクシーモンスターズ ',\n",
       " 'Earth Gomora']"
      ]
     },
     "metadata": {},
     "execution_count": 4
    }
   ],
   "source": [
    "strong = data.find_all('strong')\n",
    "\n",
    "\n",
    "daftar = []\n",
    "for element in strong:\n",
    "    daftar.append(element.text)  \n",
    "\n",
    "daftar\n",
    "# (strong[0]).text"
   ]
  },
  {
   "cell_type": "markdown",
   "metadata": {},
   "source": [
    "## Mengolah data"
   ]
  },
  {
   "cell_type": "code",
   "execution_count": 5,
   "metadata": {},
   "outputs": [],
   "source": [
    "ultraman = daftar[2:36]"
   ]
  },
  {
   "cell_type": "code",
   "execution_count": 6,
   "metadata": {},
   "outputs": [
    {
     "output_type": "execute_result",
     "data": {
      "text/plain": [
       "['01', 'Ultraman']"
      ]
     },
     "metadata": {},
     "execution_count": 6
    }
   ],
   "source": [
    "# (ultraman[0]).split(maxsplit=1)"
   ]
  },
  {
   "cell_type": "code",
   "execution_count": 7,
   "metadata": {},
   "outputs": [
    {
     "output_type": "execute_result",
     "data": {
      "text/plain": [
       "[['01', 'Ultraman'],\n",
       " ['02', 'Ultra Seven'],\n",
       " ['03', 'Zoffy'],\n",
       " ['04', 'Ultraman Jack'],\n",
       " ['05', 'Ultraman Ace'],\n",
       " ['06', 'Ultraman Taro'],\n",
       " ['07', 'Ultraman Leo'],\n",
       " ['08', 'Ultraman Tiga (Multi-Type)'],\n",
       " ['09', 'Ultraman Gaia (V2)'],\n",
       " ['10', 'Ultraman Agul (V2)'],\n",
       " ['11', 'Ultraman Ginga'],\n",
       " ['12', 'Jean-Nine'],\n",
       " ['13', 'Astra'],\n",
       " ['14', 'Ultraman Dyna (Flash Type)'],\n",
       " ['15', 'Ultraman 80'],\n",
       " ['16', 'Ultraman Cosmos (Luna Mode)'],\n",
       " ['17', 'Ultraman Nexus (Anphans)'],\n",
       " ['18', 'Ultraman Max'],\n",
       " ['19', 'Ultraman Mebius'],\n",
       " ['20', 'Ultraman Hikari'],\n",
       " ['21', 'Ultraman Zero'],\n",
       " ['22', 'Ultraman Nice'],\n",
       " ['23', 'Father of Ultra'],\n",
       " ['24', 'Ultraman King'],\n",
       " ['25', 'Ultraman Saga'],\n",
       " ['26', 'Tiga Dark (Spark Doll)'],\n",
       " ['27', 'Ultraman Dark (Spark Doll)'],\n",
       " ['28', 'Ultraman Victory'],\n",
       " ['29', 'Ultraman Ginga Strium'],\n",
       " ['30', 'Ultraman Gingavictory'],\n",
       " ['31', 'Shining Ultraman Zero'],\n",
       " ['32', 'Ultraman Nexus Junis'],\n",
       " ['33', 'Ultraman Cosmos Eclipse Mode'],\n",
       " ['34', 'Ultraman Victory Knight']]"
      ]
     },
     "metadata": {},
     "execution_count": 7
    }
   ],
   "source": [
    "ultraman_baru = []\n",
    "for i in range(len(ultraman)):\n",
    "    ultraman_baru.append((ultraman[i]).split( maxsplit=1))\n",
    "\n",
    "ultraman_baru"
   ]
  },
  {
   "cell_type": "code",
   "execution_count": 8,
   "metadata": {},
   "outputs": [
    {
     "output_type": "execute_result",
     "data": {
      "text/plain": [
       "    No                 Nama Ultraman\n",
       "0   01                      Ultraman\n",
       "1   02                   Ultra Seven\n",
       "2   03                         Zoffy\n",
       "3   04                 Ultraman Jack\n",
       "4   05                  Ultraman Ace\n",
       "5   06                 Ultraman Taro\n",
       "6   07                  Ultraman Leo\n",
       "7   08    Ultraman Tiga (Multi-Type)\n",
       "8   09            Ultraman Gaia (V2)\n",
       "9   10            Ultraman Agul (V2)\n",
       "10  11                Ultraman Ginga\n",
       "11  12                     Jean-Nine\n",
       "12  13                         Astra\n",
       "13  14    Ultraman Dyna (Flash Type)\n",
       "14  15                   Ultraman 80\n",
       "15  16   Ultraman Cosmos (Luna Mode)\n",
       "16  17      Ultraman Nexus (Anphans)\n",
       "17  18                  Ultraman Max\n",
       "18  19               Ultraman Mebius\n",
       "19  20               Ultraman Hikari\n",
       "20  21                 Ultraman Zero\n",
       "21  22                 Ultraman Nice\n",
       "22  23               Father of Ultra\n",
       "23  24                 Ultraman King\n",
       "24  25                 Ultraman Saga\n",
       "25  26        Tiga Dark (Spark Doll)\n",
       "26  27    Ultraman Dark (Spark Doll)\n",
       "27  28              Ultraman Victory\n",
       "28  29         Ultraman Ginga Strium\n",
       "29  30         Ultraman Gingavictory\n",
       "30  31         Shining Ultraman Zero\n",
       "31  32          Ultraman Nexus Junis\n",
       "32  33  Ultraman Cosmos Eclipse Mode\n",
       "33  34       Ultraman Victory Knight"
      ],
      "text/html": "<div>\n<style scoped>\n    .dataframe tbody tr th:only-of-type {\n        vertical-align: middle;\n    }\n\n    .dataframe tbody tr th {\n        vertical-align: top;\n    }\n\n    .dataframe thead th {\n        text-align: right;\n    }\n</style>\n<table border=\"1\" class=\"dataframe\">\n  <thead>\n    <tr style=\"text-align: right;\">\n      <th></th>\n      <th>No</th>\n      <th>Nama Ultraman</th>\n    </tr>\n  </thead>\n  <tbody>\n    <tr>\n      <th>0</th>\n      <td>01</td>\n      <td>Ultraman</td>\n    </tr>\n    <tr>\n      <th>1</th>\n      <td>02</td>\n      <td>Ultra Seven</td>\n    </tr>\n    <tr>\n      <th>2</th>\n      <td>03</td>\n      <td>Zoffy</td>\n    </tr>\n    <tr>\n      <th>3</th>\n      <td>04</td>\n      <td>Ultraman Jack</td>\n    </tr>\n    <tr>\n      <th>4</th>\n      <td>05</td>\n      <td>Ultraman Ace</td>\n    </tr>\n    <tr>\n      <th>5</th>\n      <td>06</td>\n      <td>Ultraman Taro</td>\n    </tr>\n    <tr>\n      <th>6</th>\n      <td>07</td>\n      <td>Ultraman Leo</td>\n    </tr>\n    <tr>\n      <th>7</th>\n      <td>08</td>\n      <td>Ultraman Tiga (Multi-Type)</td>\n    </tr>\n    <tr>\n      <th>8</th>\n      <td>09</td>\n      <td>Ultraman Gaia (V2)</td>\n    </tr>\n    <tr>\n      <th>9</th>\n      <td>10</td>\n      <td>Ultraman Agul (V2)</td>\n    </tr>\n    <tr>\n      <th>10</th>\n      <td>11</td>\n      <td>Ultraman Ginga</td>\n    </tr>\n    <tr>\n      <th>11</th>\n      <td>12</td>\n      <td>Jean-Nine</td>\n    </tr>\n    <tr>\n      <th>12</th>\n      <td>13</td>\n      <td>Astra</td>\n    </tr>\n    <tr>\n      <th>13</th>\n      <td>14</td>\n      <td>Ultraman Dyna (Flash Type)</td>\n    </tr>\n    <tr>\n      <th>14</th>\n      <td>15</td>\n      <td>Ultraman 80</td>\n    </tr>\n    <tr>\n      <th>15</th>\n      <td>16</td>\n      <td>Ultraman Cosmos (Luna Mode)</td>\n    </tr>\n    <tr>\n      <th>16</th>\n      <td>17</td>\n      <td>Ultraman Nexus (Anphans)</td>\n    </tr>\n    <tr>\n      <th>17</th>\n      <td>18</td>\n      <td>Ultraman Max</td>\n    </tr>\n    <tr>\n      <th>18</th>\n      <td>19</td>\n      <td>Ultraman Mebius</td>\n    </tr>\n    <tr>\n      <th>19</th>\n      <td>20</td>\n      <td>Ultraman Hikari</td>\n    </tr>\n    <tr>\n      <th>20</th>\n      <td>21</td>\n      <td>Ultraman Zero</td>\n    </tr>\n    <tr>\n      <th>21</th>\n      <td>22</td>\n      <td>Ultraman Nice</td>\n    </tr>\n    <tr>\n      <th>22</th>\n      <td>23</td>\n      <td>Father of Ultra</td>\n    </tr>\n    <tr>\n      <th>23</th>\n      <td>24</td>\n      <td>Ultraman King</td>\n    </tr>\n    <tr>\n      <th>24</th>\n      <td>25</td>\n      <td>Ultraman Saga</td>\n    </tr>\n    <tr>\n      <th>25</th>\n      <td>26</td>\n      <td>Tiga Dark (Spark Doll)</td>\n    </tr>\n    <tr>\n      <th>26</th>\n      <td>27</td>\n      <td>Ultraman Dark (Spark Doll)</td>\n    </tr>\n    <tr>\n      <th>27</th>\n      <td>28</td>\n      <td>Ultraman Victory</td>\n    </tr>\n    <tr>\n      <th>28</th>\n      <td>29</td>\n      <td>Ultraman Ginga Strium</td>\n    </tr>\n    <tr>\n      <th>29</th>\n      <td>30</td>\n      <td>Ultraman Gingavictory</td>\n    </tr>\n    <tr>\n      <th>30</th>\n      <td>31</td>\n      <td>Shining Ultraman Zero</td>\n    </tr>\n    <tr>\n      <th>31</th>\n      <td>32</td>\n      <td>Ultraman Nexus Junis</td>\n    </tr>\n    <tr>\n      <th>32</th>\n      <td>33</td>\n      <td>Ultraman Cosmos Eclipse Mode</td>\n    </tr>\n    <tr>\n      <th>33</th>\n      <td>34</td>\n      <td>Ultraman Victory Knight</td>\n    </tr>\n  </tbody>\n</table>\n</div>"
     },
     "metadata": {},
     "execution_count": 8
    }
   ],
   "source": [
    "df = pd.DataFrame(ultraman_baru, columns=['No', 'Nama Ultraman'])\n",
    "df"
   ]
  },
  {
   "cell_type": "code",
   "execution_count": null,
   "metadata": {},
   "outputs": [],
   "source": []
  }
 ],
 "metadata": {
  "kernelspec": {
   "name": "python3",
   "display_name": "Python 3.8.3 64-bit ('brigi': virtualenv)",
   "metadata": {
    "interpreter": {
     "hash": "f6cadb433fb4d5e490a52a7886e50fe75cf2fd39fd559aabdd1f0f7248e07363"
    }
   }
  },
  "language_info": {
   "codemirror_mode": {
    "name": "ipython",
    "version": 3
   },
   "file_extension": ".py",
   "mimetype": "text/x-python",
   "name": "python",
   "nbconvert_exporter": "python",
   "pygments_lexer": "ipython3",
   "version": "3.8.3-final"
  }
 },
 "nbformat": 4,
 "nbformat_minor": 4
}